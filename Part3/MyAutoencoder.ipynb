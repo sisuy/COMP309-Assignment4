{
 "cells": [
  {
   "cell_type": "markdown",
   "metadata": {},
   "source": [
    "This part of the assignment is to get you introduced to using gradient descent within torch. You will be using input\\\n",
    "”data” generated (and visualised) like this:"
   ]
  },
  {
   "cell_type": "code",
   "execution_count": 1,
   "metadata": {},
   "outputs": [
    {
     "data": {
      "image/png": "[encoded data removed]",
      "text/plain": [
       "<Figure size 640x480 with 1 Axes>"
      ]
     },
     "metadata": {},
     "output_type": "display_data"
    }
   ],
   "source": [
    "import matplotlib.pyplot as plt\n",
    "import numpy as np\n",
    "import torch\n",
    "# make up some data for x\n",
    "D = 2\n",
    "x= torch.rand(100,D)\n",
    "x[:,0] = x[:,0] + x[:,1]\n",
    "x[:,1] = 0.5*x[:,0] + x[:,1]\n",
    "plt.scatter(x[:,0],x[:,1])\n",
    "plt.axis('equal')\n",
    "\n",
    "wEncoder = torch.randn(D,1, requires_grad=True)\n",
    "wDecoder = torch.randn(1,D, requires_grad=True)\n",
    "bEncoder = torch.randn(1, requires_grad=True)\n",
    "bDecoder = torch.randn(1,D, requires_grad=True)"
   ]
  },
  {
   "cell_type": "markdown",
   "metadata": {},
   "source": [
    "An autoencoder is an unsupervised learner that carries out dimensionality reduction by mapping the data into a lower dimensional space and back ”out” again to form a ”reconstruction”. \\\n",
    "The loss is some measure of the difference between the original data items and their reconstructions.\\\n",
    "![pic](assets/pic1.jpg \"Magic Gardens\")"
   ]
  },
  {
   "cell_type": "markdown",
   "metadata": {},
   "source": [
    "## Encoder function\n",
    "### Input\n",
    "* the shape of input x: (1,2)\n",
    "* w_encoder: weight of encoder\n",
    "* b_encoder: bias of encoder\n",
    "### Output\n",
    "* the shape of output: z (1)\n",
    "### Variable\n",
    "* encoder:\\\n",
    " $z = x_0*w{0_encoder} + x_1*w{1encoder} + b_{encoder}$\n",
    "* an encoder, which takes the 2-d inputs and produces a 1-dimensional z via a weighted sum plus a bias. \n",
    "* The encoder weights will be a 1-by-2 tensor and the encoder bias will be a 1-by-1 tensor."
   ]
  },
  {
   "cell_type": "code",
   "execution_count": 3,
   "metadata": {},
   "outputs": [],
   "source": [
    "def encoder(x, w_encoder, b_encoder):\n",
    "    # Encoder: z = x0*w0_encoder + x_1*w_1_encoder + b_encoder\n",
    "    z = torch.mm(x,w_encoder) + b_encoder\n",
    "    return z"
   ]
  },
  {
   "cell_type": "code",
   "execution_count": 4,
   "metadata": {},
   "outputs": [],
   "source": [
    "def decoder(z,w_decoder,b_decoder):\n",
    "    z = torch.mm(w_decoder,z) + b_decoder\n",
    "    return z"
   ]
  },
  {
   "cell_type": "code",
   "execution_count": 5,
   "metadata": {},
   "outputs": [
    {
     "ename": "IndentationError",
     "evalue": "expected an indented block (7640775.py, line 2)",
     "output_type": "error",
     "traceback": [
      "\u001b[0;36m  Input \u001b[0;32mIn [5]\u001b[0;36m\u001b[0m\n\u001b[0;31m    \u001b[0m\n\u001b[0m    ^\u001b[0m\n\u001b[0;31mIndentationError\u001b[0m\u001b[0;31m:\u001b[0m expected an indented block\n"
     ]
    }
   ],
   "source": [
    "def loss(x,y):\n",
    "    "
   ]
  },
  {
   "cell_type": "code",
   "execution_count": 6,
   "metadata": {},
   "outputs": [
    {
     "data": {
      "text/plain": [
       "tensor([[-0.4249]], grad_fn=<AddBackward0>)"
      ]
     },
     "execution_count": 6,
     "metadata": {},
     "output_type": "execute_result"
    }
   ],
   "source": [
    "v1 = torch.randn(1,2, requires_grad=True)\n",
    "r1 = encoder(v1,w_encoder=wEncoder,b_encoder=bEncoder)\n",
    "r1"
   ]
  },
  {
   "cell_type": "code",
   "execution_count": 7,
   "metadata": {},
   "outputs": [
    {
     "data": {
      "text/plain": [
       "tensor([[2.1234],\n",
       "        [2.0668]], grad_fn=<AddBackward0>)"
      ]
     },
     "execution_count": 7,
     "metadata": {},
     "output_type": "execute_result"
    }
   ],
   "source": [
    "decoder(r1,wEncoder,bEncoder)"
   ]
  }
 ],
 "metadata": {
  "kernelspec": {
   "display_name": "Python 3.9.12 ('base')",
   "language": "python",
   "name": "python3"
  },
  "language_info": {
   "codemirror_mode": {
    "name": "ipython",
    "version": 3
   },
   "file_extension": ".py",
   "mimetype": "text/x-python",
   "name": "python",
   "nbconvert_exporter": "python",
   "pygments_lexer": "ipython3",
   "version": "3.9.12"
  },
  "orig_nbformat": 4,
  "vscode": {
   "interpreter": {
    "hash": "4192c62f7fccc37d1876569da9edff732821ff21f6ef39fe4a37374a26d99c6f"
   }
  }
 },
 "nbformat": 4,
 "nbformat_minor": 2
}
