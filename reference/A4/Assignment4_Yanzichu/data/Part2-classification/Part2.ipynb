{
 "cells": [
  {
   "cell_type": "code",
   "execution_count": 1,
   "metadata": {},
   "outputs": [],
   "source": [
    "import warnings\n",
    "warnings.filterwarnings('ignore')\n",
    "import pandas as pd\n",
    "import numpy as np\n",
    "import datetime\n",
    "import seaborn as sns\n",
    "import missingno as msno\n",
    "#Classification Algorithm\n",
    "from sklearn.preprocessing import LabelEncoder\n",
    "from sklearn.metrics import precision_score, recall_score, accuracy_score, f1_score, roc_auc_score\n",
    "\n",
    "# Classification\n",
    "from sklearn.neural_network import MLPClassifier\n",
    "from sklearn.tree import DecisionTreeClassifier\n",
    "from sklearn.linear_model import LogisticRegression\n",
    "from sklearn.neighbors import KNeighborsClassifier\n",
    "from sklearn.naive_bayes import GaussianNB\n",
    "from sklearn.svm import SVC\n",
    "from sklearn.ensemble import RandomForestClassifier , GradientBoostingClassifier, AdaBoostClassifier\n",
    "from sklearn.discriminant_analysis import LinearDiscriminantAnalysis\n",
    "\n",
    "training_data = 'adult.data.csv'\n",
    "test_data = 'adult.test.csv'\n"
   ]
  },
  {
   "cell_type": "code",
   "execution_count": 2,
   "metadata": {},
   "outputs": [
    {
     "name": "stdout",
     "output_type": "stream",
     "text": [
      "   Age         Workclass  fnlgwt  Education  Education Num  \\\n",
      "0   39         State-gov   77516  Bachelors             13   \n",
      "1   50  Self-emp-not-inc   83311  Bachelors             13   \n",
      "2   38           Private  215646    HS-grad              9   \n",
      "\n",
      "       Marital Status         Occupation   Relationship   Race   Sex  \\\n",
      "0       Never-married       Adm-clerical  Not-in-family  White  Male   \n",
      "1  Married-civ-spouse    Exec-managerial        Husband  White  Male   \n",
      "2            Divorced  Handlers-cleaners  Not-in-family  White  Male   \n",
      "\n",
      "   Capital Gain  Capital Loss  Hours/Week        Country Above/Below 50K  \n",
      "0          2174             0          40  United-States           <=50K  \n",
      "1             0             0          13  United-States           <=50K  \n",
      "2             0             0          40  United-States           <=50K  \n",
      "=========================================\n",
      "   Age  Workclass  fnlgwt     Education  Education Num      Marital Status  \\\n",
      "1   38    Private   89814       HS-grad              9  Married-civ-spouse   \n",
      "2   28  Local-gov  336951    Assoc-acdm             12  Married-civ-spouse   \n",
      "3   44    Private  160323  Some-college             10  Married-civ-spouse   \n",
      "\n",
      "          Occupation Relationship   Race   Sex  Capital Gain  Capital Loss  \\\n",
      "1    Farming-fishing      Husband  White  Male             0             0   \n",
      "2    Protective-serv      Husband  White  Male             0             0   \n",
      "3  Machine-op-inspct      Husband  Black  Male          7688             0   \n",
      "\n",
      "   Hours/Week        Country Above/Below 50K  \n",
      "1          50  United-States          <=50K.  \n",
      "2          40  United-States           >50K.  \n",
      "3          40  United-States           >50K.  \n"
     ]
    }
   ],
   "source": [
    "columns = ['Age','Workclass','fnlgwt','Education','Education Num','Marital Status','Occupation','Relationship','Race','Sex','Capital Gain','Capital Loss',\n",
    "            'Hours/Week','Country','Above/Below 50K']\n",
    "train=pd.read_csv(training_data, names=columns, delimiter =' *, *')\n",
    "test=pd.read_csv(test_data, names=columns, delimiter =' *, *')\n",
    "\n",
    "test = test.iloc[1:]#chose all rows from row 1.\n",
    "print(train.head(3))#check whether attribute names are added \n",
    "print(\"=========================================\")\n",
    "print(test.head(3))"
   ]
  },
  {
   "cell_type": "code",
   "execution_count": 3,
   "metadata": {},
   "outputs": [
    {
     "name": "stdout",
     "output_type": "stream",
     "text": [
      "Age                0\n",
      "Workclass          0\n",
      "fnlgwt             0\n",
      "Education          0\n",
      "Education Num      0\n",
      "Marital Status     0\n",
      "Occupation         0\n",
      "Relationship       0\n",
      "Race               0\n",
      "Sex                0\n",
      "Capital Gain       0\n",
      "Capital Loss       0\n",
      "Hours/Week         0\n",
      "Country            0\n",
      "Above/Below 50K    0\n",
      "dtype: int64\n",
      "=========================================\n",
      "Age                0\n",
      "Workclass          0\n",
      "fnlgwt             0\n",
      "Education          0\n",
      "Education Num      0\n",
      "Marital Status     0\n",
      "Occupation         0\n",
      "Relationship       0\n",
      "Race               0\n",
      "Sex                0\n",
      "Capital Gain       0\n",
      "Capital Loss       0\n",
      "Hours/Week         0\n",
      "Country            0\n",
      "Above/Below 50K    0\n",
      "dtype: int64\n"
     ]
    }
   ],
   "source": [
    "print(train.isnull().sum()) # Check missing values\n",
    "print(\"=========================================\")\n",
    "print(test.isnull().sum()) # Check missing values"
   ]
  },
  {
   "cell_type": "code",
   "execution_count": 4,
   "metadata": {},
   "outputs": [
    {
     "name": "stdout",
     "output_type": "stream",
     "text": [
      "(32561, 15)\n",
      "=========================================\n",
      "(16280, 15)\n"
     ]
    }
   ],
   "source": [
    "print(train.shape) \n",
    "print(\"=========================================\")\n",
    "print(test.shape) "
   ]
  },
  {
   "cell_type": "code",
   "execution_count": 5,
   "metadata": {},
   "outputs": [
    {
     "name": "stdout",
     "output_type": "stream",
     "text": [
      "                Age        fnlgwt  Education Num  Capital Gain  Capital Loss  \\\n",
      "count  32561.000000  3.256100e+04   32561.000000  32561.000000  32561.000000   \n",
      "mean      38.581647  1.897784e+05      10.080679   1077.648844     87.303830   \n",
      "std       13.640433  1.055500e+05       2.572720   7385.292085    402.960219   \n",
      "min       17.000000  1.228500e+04       1.000000      0.000000      0.000000   \n",
      "25%       28.000000  1.178270e+05       9.000000      0.000000      0.000000   \n",
      "50%       37.000000  1.783560e+05      10.000000      0.000000      0.000000   \n",
      "75%       48.000000  2.370510e+05      12.000000      0.000000      0.000000   \n",
      "max       90.000000  1.484705e+06      16.000000  99999.000000   4356.000000   \n",
      "\n",
      "         Hours/Week  \n",
      "count  32561.000000  \n",
      "mean      40.437456  \n",
      "std       12.347429  \n",
      "min        1.000000  \n",
      "25%       40.000000  \n",
      "50%       40.000000  \n",
      "75%       45.000000  \n",
      "max       99.000000  \n",
      "=========================================\n",
      "                Age        fnlgwt  Education Num  Capital Gain  Capital Loss  \\\n",
      "count  16280.000000  1.628000e+04   16280.000000   16280.00000  16280.000000   \n",
      "mean      38.768305  1.894334e+05      10.073096    1081.97156     87.904668   \n",
      "std       13.849192  1.057177e+05       2.567511    7584.16416    403.117078   \n",
      "min       17.000000  1.349200e+04       1.000000       0.00000      0.000000   \n",
      "25%       28.000000  1.167162e+05       9.000000       0.00000      0.000000   \n",
      "50%       37.000000  1.778295e+05      10.000000       0.00000      0.000000   \n",
      "75%       48.000000  2.383840e+05      12.000000       0.00000      0.000000   \n",
      "max       90.000000  1.490400e+06      16.000000   99999.00000   3770.000000   \n",
      "\n",
      "         Hours/Week  \n",
      "count  16280.000000  \n",
      "mean      40.392260  \n",
      "std       12.479715  \n",
      "min        1.000000  \n",
      "25%       40.000000  \n",
      "50%       40.000000  \n",
      "75%       45.000000  \n",
      "max       99.000000  \n"
     ]
    }
   ],
   "source": [
    "print(train.describe()) \n",
    "print(\"=========================================\")\n",
    "print(test.describe()) "
   ]
  },
  {
   "cell_type": "code",
   "execution_count": 6,
   "metadata": {},
   "outputs": [
    {
     "name": "stdout",
     "output_type": "stream",
     "text": [
      "Age                   0\n",
      "Workclass          1836\n",
      "fnlgwt                0\n",
      "Education             0\n",
      "Education Num         0\n",
      "Marital Status        0\n",
      "Occupation         1843\n",
      "Relationship          0\n",
      "Race                  0\n",
      "Sex                   0\n",
      "Capital Gain          0\n",
      "Capital Loss          0\n",
      "Hours/Week            0\n",
      "Country             583\n",
      "Above/Below 50K       0\n",
      "dtype: int64\n"
     ]
    },
    {
     "data": {
      "text/plain": [
       "<matplotlib.axes._subplots.AxesSubplot at 0x1a1ab0ca10>"
      ]
     },
     "execution_count": 6,
     "metadata": {},
     "output_type": "execute_result"
    },
    {
     "data": {
      "image/png": "[encoded data removed]",
      "text/plain": [
       "<Figure size 432x288 with 1 Axes>"
      ]
     },
     "metadata": {
      "needs_background": "light"
     },
     "output_type": "display_data"
    }
   ],
   "source": [
    "# seeing where the ? values are\n",
    "print(train.isin([\"?\"]).sum())\n",
    "sns.distplot(train.isin([\"?\"]).sum())"
   ]
  },
  {
   "cell_type": "code",
   "execution_count": 7,
   "metadata": {},
   "outputs": [
    {
     "name": "stdout",
     "output_type": "stream",
     "text": [
      "Age                  0\n",
      "Workclass          963\n",
      "fnlgwt               0\n",
      "Education            0\n",
      "Education Num        0\n",
      "Marital Status       0\n",
      "Occupation         966\n",
      "Relationship         0\n",
      "Race                 0\n",
      "Sex                  0\n",
      "Capital Gain         0\n",
      "Capital Loss         0\n",
      "Hours/Week           0\n",
      "Country            274\n",
      "Above/Below 50K      0\n",
      "dtype: int64\n"
     ]
    },
    {
     "data": {
      "text/plain": [
       "<matplotlib.axes._subplots.AxesSubplot at 0x1a1ab0ac50>"
      ]
     },
     "execution_count": 7,
     "metadata": {},
     "output_type": "execute_result"
    },
    {
     "data": {
      "image/png": "[encoded data removed]",
      "text/plain": [
       "<Figure size 432x288 with 1 Axes>"
      ]
     },
     "metadata": {
      "needs_background": "light"
     },
     "output_type": "display_data"
    }
   ],
   "source": [
    "print(test.isin([\"?\"]).sum())\n",
    "sns.distplot(test.isin([\"?\"]).sum())"
   ]
  },
  {
   "cell_type": "code",
   "execution_count": 8,
   "metadata": {},
   "outputs": [
    {
     "data": {
      "text/plain": [
       "<matplotlib.axes._subplots.AxesSubplot at 0x1a1abca9d0>"
      ]
     },
     "execution_count": 8,
     "metadata": {},
     "output_type": "execute_result"
    },
    {
     "data": {
      "image/png": "[encoded data removed]",
      "text/plain": [
       "<Figure size 432x288 with 1 Axes>"
      ]
     },
     "metadata": {
      "needs_background": "light"
     },
     "output_type": "display_data"
    }
   ],
   "source": [
    "#replace ? with np.NaN\n",
    "train = train.replace('?', np.nan)\n",
    "train.dropna(how='any',inplace=True)\n",
    " \n",
    "test = test.replace('?', np.nan)\n",
    "test.dropna(how='any',inplace=True)\n",
    "#check whether they has been changed\n",
    "sns.distplot(test.isin([\"?\"]).sum())\n"
   ]
  },
  {
   "cell_type": "code",
   "execution_count": 9,
   "metadata": {},
   "outputs": [
    {
     "data": {
      "text/plain": [
       "<matplotlib.axes._subplots.AxesSubplot at 0x1a1ab3e610>"
      ]
     },
     "execution_count": 9,
     "metadata": {},
     "output_type": "execute_result"
    },
    {
     "data": {
      "image/png": "[encoded data removed]",
      "text/plain": [
       "<Figure size 432x288 with 1 Axes>"
      ]
     },
     "metadata": {
      "needs_background": "light"
     },
     "output_type": "display_data"
    }
   ],
   "source": [
    "sns.distplot(train.isin([\"?\"]).sum())"
   ]
  },
  {
   "cell_type": "code",
   "execution_count": 10,
   "metadata": {},
   "outputs": [
    {
     "name": "stdout",
     "output_type": "stream",
     "text": [
      "   Age  Workclass  fnlgwt   Education  Education Num      Marital Status  \\\n",
      "1   38    Private   89814     HS-grad              9  Married-civ-spouse   \n",
      "2   28  Local-gov  336951  Assoc-acdm             12  Married-civ-spouse   \n",
      "\n",
      "        Occupation Relationship   Race   Sex  Capital Gain  Capital Loss  \\\n",
      "1  Farming-fishing      Husband  White  Male             0             0   \n",
      "2  Protective-serv      Husband  White  Male             0             0   \n",
      "\n",
      "   Hours/Week        Country Above/Below 50K  \n",
      "1          50  United-States          <=50K.  \n",
      "2          40  United-States           >50K.  \n",
      "   Age  Workclass  fnlgwt   Education  Education Num      Marital Status  \\\n",
      "1   38    Private   89814     HS-grad              9  Married-civ-spouse   \n",
      "2   28  Local-gov  336951  Assoc-acdm             12  Married-civ-spouse   \n",
      "\n",
      "        Occupation Relationship   Race   Sex  Capital Gain  Capital Loss  \\\n",
      "1  Farming-fishing      Husband  White  Male             0             0   \n",
      "2  Protective-serv      Husband  White  Male             0             0   \n",
      "\n",
      "   Hours/Week        Country Above/Below 50K  \n",
      "1          50  United-States           <=50K  \n",
      "2          40  United-States            >50K  \n"
     ]
    }
   ],
   "source": [
    "# getting rid of the full stops\n",
    "print(test.head(2))\n",
    "test = test.replace(\"<=50K.\", \"<=50K\")\n",
    "test = test.replace(\">50K.\", \">50K\")\n",
    "print(test.head(2))"
   ]
  },
  {
   "cell_type": "code",
   "execution_count": 11,
   "metadata": {},
   "outputs": [
    {
     "name": "stdout",
     "output_type": "stream",
     "text": [
      "(30162, 13)\n",
      "=========================================\n",
      "(15059, 13)\n"
     ]
    }
   ],
   "source": [
    "# dropping education as there is also a numerical column for this\n",
    "train = train.drop('Education', 1)\n",
    "test = test.drop('Education', 1)\n",
    "train = train.drop('fnlgwt', 1)\n",
    "test = test.drop('fnlgwt', 1)\n",
    "print(train.shape) \n",
    "print(\"=========================================\")\n",
    "print(test.shape) "
   ]
  },
  {
   "cell_type": "code",
   "execution_count": 12,
   "metadata": {},
   "outputs": [
    {
     "name": "stdout",
     "output_type": "stream",
     "text": [
      "   Age  Education Num  Capital Gain  Capital Loss  Hours/Week  \\\n",
      "0   39             13          2174             0          40   \n",
      "1   50             13             0             0          13   \n",
      "\n",
      "   Above/Below 50K  Workclass_Federal-gov  Workclass_Local-gov  \\\n",
      "0                0                      0                    0   \n",
      "1                0                      0                    0   \n",
      "\n",
      "   Workclass_Private  Workclass_Self-emp-inc  ...  Country_Portugal  \\\n",
      "0                  0                       0  ...                 0   \n",
      "1                  0                       0  ...                 0   \n",
      "\n",
      "   Country_Puerto-Rico  Country_Scotland  Country_South  Country_Taiwan  \\\n",
      "0                    0                 0              0               0   \n",
      "1                    0                 0              0               0   \n",
      "\n",
      "   Country_Thailand  Country_Trinadad&Tobago  Country_United-States  \\\n",
      "0                 0                        0                      1   \n",
      "1                 0                        0                      1   \n",
      "\n",
      "   Country_Vietnam  Country_Yugoslavia  \n",
      "0                0                   0  \n",
      "1                0                   0  \n",
      "\n",
      "[2 rows x 88 columns]\n"
     ]
    }
   ],
   "source": [
    "# creating the dummy variables for train    \n",
    "cat_vars = ['Workclass', 'Marital Status', 'Occupation', 'Relationship','Race', 'Sex', 'Country']\n",
    "\n",
    "for var in cat_vars:\n",
    "    cat_list = 'var' + '_' + var\n",
    "    cat_list = pd.get_dummies(train[var], prefix = var)\n",
    "    data1 = train.join(cat_list)\n",
    "    train = data1\n",
    "    \n",
    "cat_vars = ['Workclass', 'Marital Status', 'Occupation', 'Relationship','Race', 'Sex', 'Country']\n",
    "data_vars = train.columns.values.tolist()\n",
    "to_keep = [i for i in data_vars if i not in cat_vars]\n",
    "\n",
    "train = train[to_keep]  \n",
    "train['Above/Below 50K'] = LabelEncoder().fit_transform(train['Above/Below 50K'])\n",
    "\n",
    "train.columns.values\n",
    "print(train.head(2))"
   ]
  },
  {
   "cell_type": "code",
   "execution_count": 13,
   "metadata": {},
   "outputs": [],
   "source": [
    "# creating the dummy variables for test   \n",
    "cat_vars = ['Workclass', 'Marital Status', 'Occupation', 'Relationship','Race', 'Sex', 'Country']\n",
    "\n",
    "for var in cat_vars:\n",
    "    cat_list = 'var' + '_' + var\n",
    "    cat_list = pd.get_dummies(test[var], prefix = var)\n",
    "    data1 = test.join(cat_list)\n",
    "    test = data1\n",
    "    \n",
    "cat_vars = ['Workclass', 'Marital Status', 'Occupation', 'Relationship','Race', 'Sex', 'Country']\n",
    "data_vars = test.columns.values.tolist()\n",
    "to_keep = [i for i in data_vars if i not in cat_vars]\n",
    "\n",
    "test = test[to_keep]  \n",
    "test['Above/Below 50K'] = LabelEncoder().fit_transform(test['Above/Below 50K'])"
   ]
  },
  {
   "cell_type": "code",
   "execution_count": 14,
   "metadata": {},
   "outputs": [
    {
     "name": "stdout",
     "output_type": "stream",
     "text": [
      "0.7510775147536636\n",
      "0.24892248524633645\n"
     ]
    }
   ],
   "source": [
    "# seeing if the datasets are balanced\n",
    "print(train['Above/Below 50K'].value_counts()[0]/train.shape[0])\n",
    "print(train['Above/Below 50K'].value_counts()[1]/train.shape[0])"
   ]
  },
  {
   "cell_type": "code",
   "execution_count": 15,
   "metadata": {},
   "outputs": [
    {
     "name": "stdout",
     "output_type": "stream",
     "text": [
      "(15059, 87)\n",
      "(30162, 88)\n"
     ]
    }
   ],
   "source": [
    "# they aren't balanced\n",
    "\n",
    "# seeing if they have the same number of columns\n",
    "print(test.shape)\n",
    "print(train.shape)\n",
    "# they don't so need to find out what that is"
   ]
  },
  {
   "cell_type": "code",
   "execution_count": 16,
   "metadata": {},
   "outputs": [
    {
     "name": "stdout",
     "output_type": "stream",
     "text": [
      "{'Country_Holand-Netherlands'}\n"
     ]
    }
   ],
   "source": [
    "# checking to see which column is missing\n",
    "missing_cols = set(train) - set(test)#compare train and test set\n",
    "print(missing_cols)"
   ]
  },
  {
   "cell_type": "code",
   "execution_count": 17,
   "metadata": {},
   "outputs": [],
   "source": [
    "# # Adding in a column that was missing from the test set filled with 0's \n",
    "# test['Country_Holand-Netherlands'] = pd.Series(0, index = test.index)\n",
    "\n",
    "# drop the missing column in training set\n",
    "train.drop(['Country_Holand-Netherlands'] , axis=1 , inplace=True)# remove the first column"
   ]
  },
  {
   "cell_type": "code",
   "execution_count": 18,
   "metadata": {},
   "outputs": [
    {
     "name": "stdout",
     "output_type": "stream",
     "text": [
      "(15059, 87)\n",
      "(30162, 87)\n"
     ]
    }
   ],
   "source": [
    "#check whether it was inserted\n",
    "print(test.shape)\n",
    "print(train.shape)"
   ]
  },
  {
   "cell_type": "code",
   "execution_count": 19,
   "metadata": {},
   "outputs": [
    {
     "data": {
      "text/plain": [
       "<matplotlib.axes._subplots.AxesSubplot at 0x1a1ad0bfd0>"
      ]
     },
     "execution_count": 19,
     "metadata": {},
     "output_type": "execute_result"
    },
    {
     "data": {
      "image/png": "[encoded data removed]",
      "text/plain": [
       "<Figure size 432x288 with 1 Axes>"
      ]
     },
     "metadata": {
      "needs_background": "light"
     },
     "output_type": "display_data"
    }
   ],
   "source": [
    "sns.distplot(train['Above/Below 50K'])"
   ]
  },
  {
   "cell_type": "code",
   "execution_count": 20,
   "metadata": {},
   "outputs": [],
   "source": [
    "# making the training and test set \n",
    "X_train = train.drop(['Above/Below 50K'], axis = 1)\n",
    "y_train = train['Above/Below 50K']\n",
    "X_test = test.drop(['Above/Below 50K'], axis = 1)\n",
    "y_test = test['Above/Below 50K']"
   ]
  },
  {
   "cell_type": "code",
   "execution_count": 21,
   "metadata": {},
   "outputs": [],
   "source": [
    "# this method for print out Metrics\n",
    "def printsMetrics(classifier, label):\n",
    "    start_time = datetime.datetime.now()\n",
    "    classifier.fit(X_train, y_train)\n",
    "    y_pred = classifier.predict(X_test)\n",
    "    end_time = datetime.datetime.now()  # Track learning ending time\n",
    "    exection_time = (end_time - start_time).total_seconds()  # Track execution time\n",
    "    #Performance Metrics : \n",
    "    acc = accuracy_score(y_test, y_pred)\n",
    "    prec = precision_score(y_test, y_pred)\n",
    "    rec = recall_score(y_test, y_pred)\n",
    "    F1 = f1_score(y_test, y_pred)\n",
    "    roc_AUC = roc_auc_score(y_test, y_pred)\n",
    "    #printout : \n",
    "    print(\"----------------------------------------\")\n",
    "    print(\"Classifier: \" + label)\n",
    "    print(label + ' Accuracy : %0.2f ' % acc)\n",
    "    print(label + ' Precision Score : %0.2f ' %prec)\n",
    "    print(label + ' F1 Score : %0.2f ' % F1)\n",
    "    print(label + ' Recall Score : %0.2f ' %rec)\n",
    "    print(label + ' roc Score: %0.2f ' % roc_AUC)\n",
    "    print(\"Learn: execution time={t:.3f} seconds\".format(t = exection_time))\n",
    "    print(\"----------------------------------------\")"
   ]
  },
  {
   "cell_type": "code",
   "execution_count": 22,
   "metadata": {},
   "outputs": [
    {
     "name": "stdout",
     "output_type": "stream",
     "text": [
      "----------------------------------------\n",
      "Classifier: KNN\n",
      "KNN Accuracy : 0.85 \n",
      "KNN Precision Score : 0.72 \n",
      "KNN F1 Score : 0.67 \n",
      "KNN Recall Score : 0.63 \n",
      "KNN roc Score: 0.77 \n",
      "Learn: execution time=12.978 seconds\n",
      "----------------------------------------\n",
      "----------------------------------------\n",
      "Classifier: Naive Bayes\n",
      "Naive Bayes Accuracy : 0.79 \n",
      "Naive Bayes Precision Score : 0.55 \n",
      "Naive Bayes F1 Score : 0.66 \n",
      "Naive Bayes Recall Score : 0.82 \n",
      "Naive Bayes roc Score: 0.80 \n",
      "Learn: execution time=0.094 seconds\n",
      "----------------------------------------\n"
     ]
    },
    {
     "ename": "KeyboardInterrupt",
     "evalue": "",
     "output_type": "error",
     "traceback": [
      "\u001b[0;31m---------------------------------------------------------------------------\u001b[0m",
      "\u001b[0;31mKeyboardInterrupt\u001b[0m                         Traceback (most recent call last)",
      "\u001b[0;32m<ipython-input-22-24969de6d3c3>\u001b[0m in \u001b[0;36m<module>\u001b[0;34m\u001b[0m\n\u001b[1;32m      1\u001b[0m \u001b[0mprintsMetrics\u001b[0m\u001b[0;34m(\u001b[0m\u001b[0mKNeighborsClassifier\u001b[0m\u001b[0;34m(\u001b[0m\u001b[0mn_neighbors\u001b[0m \u001b[0;34m=\u001b[0m \u001b[0;36m15\u001b[0m\u001b[0;34m,\u001b[0m \u001b[0mweights\u001b[0m \u001b[0;34m=\u001b[0m \u001b[0;34m'distance'\u001b[0m\u001b[0;34m)\u001b[0m\u001b[0;34m,\u001b[0m \u001b[0;34m\"KNN\"\u001b[0m\u001b[0;34m)\u001b[0m\u001b[0;34m\u001b[0m\u001b[0;34m\u001b[0m\u001b[0m\n\u001b[1;32m      2\u001b[0m \u001b[0mprintsMetrics\u001b[0m\u001b[0;34m(\u001b[0m\u001b[0mGaussianNB\u001b[0m\u001b[0;34m(\u001b[0m\u001b[0;34m)\u001b[0m\u001b[0;34m,\u001b[0m \u001b[0;34m\"Naive Bayes\"\u001b[0m\u001b[0;34m)\u001b[0m\u001b[0;34m\u001b[0m\u001b[0;34m\u001b[0m\u001b[0m\n\u001b[0;32m----> 3\u001b[0;31m \u001b[0mprintsMetrics\u001b[0m\u001b[0;34m(\u001b[0m\u001b[0mSVC\u001b[0m\u001b[0;34m(\u001b[0m\u001b[0;34m)\u001b[0m\u001b[0;34m,\u001b[0m \u001b[0;34m\"SVM\"\u001b[0m\u001b[0;34m)\u001b[0m\u001b[0;31m##############################################################################Spent a long time !!!\u001b[0m\u001b[0;34m\u001b[0m\u001b[0;34m\u001b[0m\u001b[0m\n\u001b[0m\u001b[1;32m      4\u001b[0m \u001b[0mprintsMetrics\u001b[0m\u001b[0;34m(\u001b[0m\u001b[0mDecisionTreeClassifier\u001b[0m\u001b[0;34m(\u001b[0m\u001b[0mmax_depth\u001b[0m \u001b[0;34m=\u001b[0m \u001b[0;36m10\u001b[0m\u001b[0;34m)\u001b[0m\u001b[0;34m,\u001b[0m \u001b[0;34m\"Decision Tree\"\u001b[0m\u001b[0;34m)\u001b[0m\u001b[0;34m\u001b[0m\u001b[0;34m\u001b[0m\u001b[0m\n\u001b[1;32m      5\u001b[0m \u001b[0mprintsMetrics\u001b[0m\u001b[0;34m(\u001b[0m\u001b[0mRandomForestClassifier\u001b[0m\u001b[0;34m(\u001b[0m\u001b[0;34m)\u001b[0m\u001b[0;34m,\u001b[0m \u001b[0;34m\"Random Forest\"\u001b[0m\u001b[0;34m)\u001b[0m\u001b[0;34m\u001b[0m\u001b[0;34m\u001b[0m\u001b[0m\n",
      "\u001b[0;32m<ipython-input-21-67c5ca72b7e3>\u001b[0m in \u001b[0;36mprintsMetrics\u001b[0;34m(classifier, label)\u001b[0m\n\u001b[1;32m      2\u001b[0m \u001b[0;32mdef\u001b[0m \u001b[0mprintsMetrics\u001b[0m\u001b[0;34m(\u001b[0m\u001b[0mclassifier\u001b[0m\u001b[0;34m,\u001b[0m \u001b[0mlabel\u001b[0m\u001b[0;34m)\u001b[0m\u001b[0;34m:\u001b[0m\u001b[0;34m\u001b[0m\u001b[0;34m\u001b[0m\u001b[0m\n\u001b[1;32m      3\u001b[0m     \u001b[0mstart_time\u001b[0m \u001b[0;34m=\u001b[0m \u001b[0mdatetime\u001b[0m\u001b[0;34m.\u001b[0m\u001b[0mdatetime\u001b[0m\u001b[0;34m.\u001b[0m\u001b[0mnow\u001b[0m\u001b[0;34m(\u001b[0m\u001b[0;34m)\u001b[0m\u001b[0;34m\u001b[0m\u001b[0;34m\u001b[0m\u001b[0m\n\u001b[0;32m----> 4\u001b[0;31m     \u001b[0mclassifier\u001b[0m\u001b[0;34m.\u001b[0m\u001b[0mfit\u001b[0m\u001b[0;34m(\u001b[0m\u001b[0mX_train\u001b[0m\u001b[0;34m,\u001b[0m \u001b[0my_train\u001b[0m\u001b[0;34m)\u001b[0m\u001b[0;34m\u001b[0m\u001b[0;34m\u001b[0m\u001b[0m\n\u001b[0m\u001b[1;32m      5\u001b[0m     \u001b[0my_pred\u001b[0m \u001b[0;34m=\u001b[0m \u001b[0mclassifier\u001b[0m\u001b[0;34m.\u001b[0m\u001b[0mpredict\u001b[0m\u001b[0;34m(\u001b[0m\u001b[0mX_test\u001b[0m\u001b[0;34m)\u001b[0m\u001b[0;34m\u001b[0m\u001b[0;34m\u001b[0m\u001b[0m\n\u001b[1;32m      6\u001b[0m     \u001b[0mend_time\u001b[0m \u001b[0;34m=\u001b[0m \u001b[0mdatetime\u001b[0m\u001b[0;34m.\u001b[0m\u001b[0mdatetime\u001b[0m\u001b[0;34m.\u001b[0m\u001b[0mnow\u001b[0m\u001b[0;34m(\u001b[0m\u001b[0;34m)\u001b[0m  \u001b[0;31m# Track learning ending time\u001b[0m\u001b[0;34m\u001b[0m\u001b[0;34m\u001b[0m\u001b[0m\n",
      "\u001b[0;32m//anaconda3/lib/python3.7/site-packages/sklearn/svm/base.py\u001b[0m in \u001b[0;36mfit\u001b[0;34m(self, X, y, sample_weight)\u001b[0m\n\u001b[1;32m    207\u001b[0m \u001b[0;34m\u001b[0m\u001b[0m\n\u001b[1;32m    208\u001b[0m         \u001b[0mseed\u001b[0m \u001b[0;34m=\u001b[0m \u001b[0mrnd\u001b[0m\u001b[0;34m.\u001b[0m\u001b[0mrandint\u001b[0m\u001b[0;34m(\u001b[0m\u001b[0mnp\u001b[0m\u001b[0;34m.\u001b[0m\u001b[0miinfo\u001b[0m\u001b[0;34m(\u001b[0m\u001b[0;34m'i'\u001b[0m\u001b[0;34m)\u001b[0m\u001b[0;34m.\u001b[0m\u001b[0mmax\u001b[0m\u001b[0;34m)\u001b[0m\u001b[0;34m\u001b[0m\u001b[0;34m\u001b[0m\u001b[0m\n\u001b[0;32m--> 209\u001b[0;31m         \u001b[0mfit\u001b[0m\u001b[0;34m(\u001b[0m\u001b[0mX\u001b[0m\u001b[0;34m,\u001b[0m \u001b[0my\u001b[0m\u001b[0;34m,\u001b[0m \u001b[0msample_weight\u001b[0m\u001b[0;34m,\u001b[0m \u001b[0msolver_type\u001b[0m\u001b[0;34m,\u001b[0m \u001b[0mkernel\u001b[0m\u001b[0;34m,\u001b[0m \u001b[0mrandom_seed\u001b[0m\u001b[0;34m=\u001b[0m\u001b[0mseed\u001b[0m\u001b[0;34m)\u001b[0m\u001b[0;34m\u001b[0m\u001b[0;34m\u001b[0m\u001b[0m\n\u001b[0m\u001b[1;32m    210\u001b[0m         \u001b[0;31m# see comment on the other call to np.iinfo in this file\u001b[0m\u001b[0;34m\u001b[0m\u001b[0;34m\u001b[0m\u001b[0;34m\u001b[0m\u001b[0m\n\u001b[1;32m    211\u001b[0m \u001b[0;34m\u001b[0m\u001b[0m\n",
      "\u001b[0;32m//anaconda3/lib/python3.7/site-packages/sklearn/svm/base.py\u001b[0m in \u001b[0;36m_dense_fit\u001b[0;34m(self, X, y, sample_weight, solver_type, kernel, random_seed)\u001b[0m\n\u001b[1;32m    266\u001b[0m                 \u001b[0mcache_size\u001b[0m\u001b[0;34m=\u001b[0m\u001b[0mself\u001b[0m\u001b[0;34m.\u001b[0m\u001b[0mcache_size\u001b[0m\u001b[0;34m,\u001b[0m \u001b[0mcoef0\u001b[0m\u001b[0;34m=\u001b[0m\u001b[0mself\u001b[0m\u001b[0;34m.\u001b[0m\u001b[0mcoef0\u001b[0m\u001b[0;34m,\u001b[0m\u001b[0;34m\u001b[0m\u001b[0;34m\u001b[0m\u001b[0m\n\u001b[1;32m    267\u001b[0m                 \u001b[0mgamma\u001b[0m\u001b[0;34m=\u001b[0m\u001b[0mself\u001b[0m\u001b[0;34m.\u001b[0m\u001b[0m_gamma\u001b[0m\u001b[0;34m,\u001b[0m \u001b[0mepsilon\u001b[0m\u001b[0;34m=\u001b[0m\u001b[0mself\u001b[0m\u001b[0;34m.\u001b[0m\u001b[0mepsilon\u001b[0m\u001b[0;34m,\u001b[0m\u001b[0;34m\u001b[0m\u001b[0;34m\u001b[0m\u001b[0m\n\u001b[0;32m--> 268\u001b[0;31m                 max_iter=self.max_iter, random_seed=random_seed)\n\u001b[0m\u001b[1;32m    269\u001b[0m \u001b[0;34m\u001b[0m\u001b[0m\n\u001b[1;32m    270\u001b[0m         \u001b[0mself\u001b[0m\u001b[0;34m.\u001b[0m\u001b[0m_warn_from_fit_status\u001b[0m\u001b[0;34m(\u001b[0m\u001b[0;34m)\u001b[0m\u001b[0;34m\u001b[0m\u001b[0;34m\u001b[0m\u001b[0m\n",
      "\u001b[0;31mKeyboardInterrupt\u001b[0m: "
     ]
    }
   ],
   "source": [
    "printsMetrics(KNeighborsClassifier(n_neighbors = 15, weights = 'distance'), \"KNN\") \n",
    "printsMetrics(GaussianNB(), \"Naive Bayes\")\n",
    "printsMetrics(SVC(), \"SVM\")##############################################################################Spent a long time !!!\n",
    "printsMetrics(DecisionTreeClassifier(max_depth = 10), \"Decision Tree\")\n",
    "printsMetrics(RandomForestClassifier(), \"Random Forest\")\n",
    "printsMetrics(AdaBoostClassifier(), \"AdaBoost\")\n",
    "printsMetrics(GradientBoostingClassifier(), \"Gradient Boosting\")\n",
    "printsMetrics(LinearDiscriminantAnalysis(), \"Linear Discriminant\")\n",
    "printsMetrics(MLPClassifier(), \"MLP\")\n",
    "printsMetrics(LogisticRegression(penalty = 'l1'), \"Logistic Regression\")"
   ]
  },
  {
   "cell_type": "code",
   "execution_count": null,
   "metadata": {},
   "outputs": [],
   "source": []
  }
 ],
 "metadata": {
  "kernelspec": {
   "display_name": "Python 3",
   "language": "python",
   "name": "python3"
  },
  "language_info": {
   "codemirror_mode": {
    "name": "ipython",
    "version": 3
   },
   "file_extension": ".py",
   "mimetype": "text/x-python",
   "name": "python",
   "nbconvert_exporter": "python",
   "pygments_lexer": "ipython3",
   "version": "3.7.4"
  }
 },
 "nbformat": 4,
 "nbformat_minor": 2
}
