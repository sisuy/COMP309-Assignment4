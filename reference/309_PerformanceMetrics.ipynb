{
  "cells": [
    {
      "cell_type": "markdown",
      "id": "EOAWHJ6qS9Va",
      "metadata": {
        "id": "EOAWHJ6qS9Va"
      },
      "source": [
        "# Various Performance Metrics\n",
        "\n",
        "Here's what we will try out:\n",
        " * *Classification*：Accuracy, Error rate, True Positive Rate, False Negative Rate, Specificity, Prcesion, Recall, F1-Measure, ROC Curve, AUC, Log Loss \n",
        " * *Regression*： Mean Squared Error, Root Mean Squared Error, Relative Squared Error, Mean Absolute Error \n",
        " * *Clustering*： Silhouette Score, Rand Index, Mutual Information "
      ]
    },
    {
      "cell_type": "markdown",
      "id": "P4rOmmo2SBP4",
      "metadata": {
        "id": "P4rOmmo2SBP4"
      },
      "source": [
        "# Metrics for classification\n",
        "\n",
        "We'll use the [\"monks\" data](https://api.openml.org/d/334) - this is a totally made up toy dataset.\n",
        "It's (sole?) virtue here is that there are no missing values, so we can go straight to the prediction of the class."
      ]
    },
    {
      "cell_type": "code",
      "execution_count": 76,
      "id": "animal-cleanup",
      "metadata": {
        "colab": {
          "base_uri": "https://localhost:8080/",
          "height": 206
        },
        "id": "animal-cleanup",
        "outputId": "b58d1e86-99c6-4540-8637-455e61aeadf3",
        "trusted": true
      },
      "outputs": [
        {
          "data": {
            "text/html": [
              "\n",
              "  <div id=\"df-c2236a7c-23f0-4167-b18f-80f844739da1\">\n",
              "    <div class=\"colab-df-container\">\n",
              "      <div>\n",
              "<style scoped>\n",
              "    .dataframe tbody tr th:only-of-type {\n",
              "        vertical-align: middle;\n",
              "    }\n",
              "\n",
              "    .dataframe tbody tr th {\n",
              "        vertical-align: top;\n",
              "    }\n",
              "\n",
              "    .dataframe thead th {\n",
              "        text-align: right;\n",
              "    }\n",
              "</style>\n",
              "<table border=\"1\" class=\"dataframe\">\n",
              "  <thead>\n",
              "    <tr style=\"text-align: right;\">\n",
              "      <th></th>\n",
              "      <th>class</th>\n",
              "      <th>attr1</th>\n",
              "      <th>attr2</th>\n",
              "      <th>attr3</th>\n",
              "      <th>attr4</th>\n",
              "      <th>attr5</th>\n",
              "      <th>attr6</th>\n",
              "    </tr>\n",
              "  </thead>\n",
              "  <tbody>\n",
              "    <tr>\n",
              "      <th>0</th>\n",
              "      <td>0</td>\n",
              "      <td>1</td>\n",
              "      <td>1</td>\n",
              "      <td>1</td>\n",
              "      <td>1</td>\n",
              "      <td>2</td>\n",
              "      <td>2</td>\n",
              "    </tr>\n",
              "    <tr>\n",
              "      <th>1</th>\n",
              "      <td>0</td>\n",
              "      <td>1</td>\n",
              "      <td>1</td>\n",
              "      <td>1</td>\n",
              "      <td>1</td>\n",
              "      <td>4</td>\n",
              "      <td>1</td>\n",
              "    </tr>\n",
              "    <tr>\n",
              "      <th>2</th>\n",
              "      <td>0</td>\n",
              "      <td>1</td>\n",
              "      <td>1</td>\n",
              "      <td>1</td>\n",
              "      <td>2</td>\n",
              "      <td>1</td>\n",
              "      <td>1</td>\n",
              "    </tr>\n",
              "    <tr>\n",
              "      <th>3</th>\n",
              "      <td>0</td>\n",
              "      <td>1</td>\n",
              "      <td>1</td>\n",
              "      <td>1</td>\n",
              "      <td>2</td>\n",
              "      <td>1</td>\n",
              "      <td>2</td>\n",
              "    </tr>\n",
              "    <tr>\n",
              "      <th>4</th>\n",
              "      <td>0</td>\n",
              "      <td>1</td>\n",
              "      <td>1</td>\n",
              "      <td>1</td>\n",
              "      <td>2</td>\n",
              "      <td>2</td>\n",
              "      <td>1</td>\n",
              "    </tr>\n",
              "  </tbody>\n",
              "</table>\n",
              "</div>\n",
              "      <button class=\"colab-df-convert\" onclick=\"convertToInteractive('df-c2236a7c-23f0-4167-b18f-80f844739da1')\"\n",
              "              title=\"Convert this dataframe to an interactive table.\"\n",
              "              style=\"display:none;\">\n",
              "        \n",
              "  <svg xmlns=\"http://www.w3.org/2000/svg\" height=\"24px\"viewBox=\"0 0 24 24\"\n",
              "       width=\"24px\">\n",
              "    <path d=\"M0 0h24v24H0V0z\" fill=\"none\"/>\n",
              "    <path d=\"M18.56 5.44l.94 2.06.94-2.06 2.06-.94-2.06-.94-.94-2.06-.94 2.06-2.06.94zm-11 1L8.5 8.5l.94-2.06 2.06-.94-2.06-.94L8.5 2.5l-.94 2.06-2.06.94zm10 10l.94 2.06.94-2.06 2.06-.94-2.06-.94-.94-2.06-.94 2.06-2.06.94z\"/><path d=\"M17.41 7.96l-1.37-1.37c-.4-.4-.92-.59-1.43-.59-.52 0-1.04.2-1.43.59L10.3 9.45l-7.72 7.72c-.78.78-.78 2.05 0 2.83L4 21.41c.39.39.9.59 1.41.59.51 0 1.02-.2 1.41-.59l7.78-7.78 2.81-2.81c.8-.78.8-2.07 0-2.86zM5.41 20L4 18.59l7.72-7.72 1.47 1.35L5.41 20z\"/>\n",
              "  </svg>\n",
              "      </button>\n",
              "      \n",
              "  <style>\n",
              "    .colab-df-container {\n",
              "      display:flex;\n",
              "      flex-wrap:wrap;\n",
              "      gap: 12px;\n",
              "    }\n",
              "\n",
              "    .colab-df-convert {\n",
              "      background-color: #E8F0FE;\n",
              "      border: none;\n",
              "      border-radius: 50%;\n",
              "      cursor: pointer;\n",
              "      display: none;\n",
              "      fill: #1967D2;\n",
              "      height: 32px;\n",
              "      padding: 0 0 0 0;\n",
              "      width: 32px;\n",
              "    }\n",
              "\n",
              "    .colab-df-convert:hover {\n",
              "      background-color: #E2EBFA;\n",
              "      box-shadow: 0px 1px 2px rgba(60, 64, 67, 0.3), 0px 1px 3px 1px rgba(60, 64, 67, 0.15);\n",
              "      fill: #174EA6;\n",
              "    }\n",
              "\n",
              "    [theme=dark] .colab-df-convert {\n",
              "      background-color: #3B4455;\n",
              "      fill: #D2E3FC;\n",
              "    }\n",
              "\n",
              "    [theme=dark] .colab-df-convert:hover {\n",
              "      background-color: #434B5C;\n",
              "      box-shadow: 0px 1px 3px 1px rgba(0, 0, 0, 0.15);\n",
              "      filter: drop-shadow(0px 1px 2px rgba(0, 0, 0, 0.3));\n",
              "      fill: #FFFFFF;\n",
              "    }\n",
              "  </style>\n",
              "\n",
              "      <script>\n",
              "        const buttonEl =\n",
              "          document.querySelector('#df-c2236a7c-23f0-4167-b18f-80f844739da1 button.colab-df-convert');\n",
              "        buttonEl.style.display =\n",
              "          google.colab.kernel.accessAllowed ? 'block' : 'none';\n",
              "\n",
              "        async function convertToInteractive(key) {\n",
              "          const element = document.querySelector('#df-c2236a7c-23f0-4167-b18f-80f844739da1');\n",
              "          const dataTable =\n",
              "            await google.colab.kernel.invokeFunction('convertToInteractive',\n",
              "                                                     [key], {});\n",
              "          if (!dataTable) return;\n",
              "\n",
              "          const docLinkHtml = 'Like what you see? Visit the ' +\n",
              "            '<a target=\"_blank\" href=https://colab.research.google.com/notebooks/data_table.ipynb>data table notebook</a>'\n",
              "            + ' to learn more about interactive tables.';\n",
              "          element.innerHTML = '';\n",
              "          dataTable['output_type'] = 'display_data';\n",
              "          await google.colab.output.renderOutput(dataTable, element);\n",
              "          const docLink = document.createElement('div');\n",
              "          docLink.innerHTML = docLinkHtml;\n",
              "          element.appendChild(docLink);\n",
              "        }\n",
              "      </script>\n",
              "    </div>\n",
              "  </div>\n",
              "  "
            ],
            "text/plain": [
              "   class  attr1  attr2  attr3  attr4  attr5  attr6\n",
              "0      0      1      1      1      1      2      2\n",
              "1      0      1      1      1      1      4      1\n",
              "2      0      1      1      1      2      1      1\n",
              "3      0      1      1      1      2      1      2\n",
              "4      0      1      1      1      2      2      1"
            ]
          },
          "execution_count": 76,
          "metadata": {},
          "output_type": "execute_result"
        }
      ],
      "source": [
        "import pandas as pd\n",
        "monks_data =pd.read_csv(\"https://www.openml.org/data/get_csv/52237/php4fATLZ.csv\")\n",
        "monks_data.head()"
      ]
    },
    {
      "cell_type": "markdown",
      "id": "formal-andrews",
      "metadata": {
        "id": "formal-andrews"
      },
      "source": [
        "### Then we split the data to train and test subsets as *ONLY* the training data will be used to learn the imputers then the learnt models are applied to the test data"
      ]
    },
    {
      "cell_type": "code",
      "execution_count": 77,
      "id": "prompt-provider",
      "metadata": {
        "id": "prompt-provider",
        "trusted": true
      },
      "outputs": [],
      "source": [
        "from sklearn.model_selection import train_test_split\n",
        "y=monks_data['class']\n",
        "X=monks_data.drop(['class'], axis=1)\n",
        "X_monks_train, X_monks_test, y_monks_train, y_monks_test = train_test_split(X, y, test_size=0.3, random_state=42)"
      ]
    },
    {
      "cell_type": "code",
      "execution_count": 78,
      "id": "53a9efcd",
      "metadata": {
        "colab": {
          "base_uri": "https://localhost:8080/",
          "height": 206
        },
        "id": "53a9efcd",
        "outputId": "62f80586-dcc9-421c-c175-f0b98ecc10c7",
        "trusted": true
      },
      "outputs": [
        {
          "data": {
            "text/html": [
              "\n",
              "  <div id=\"df-272ee090-5f36-45f9-b026-33051e824099\">\n",
              "    <div class=\"colab-df-container\">\n",
              "      <div>\n",
              "<style scoped>\n",
              "    .dataframe tbody tr th:only-of-type {\n",
              "        vertical-align: middle;\n",
              "    }\n",
              "\n",
              "    .dataframe tbody tr th {\n",
              "        vertical-align: top;\n",
              "    }\n",
              "\n",
              "    .dataframe thead th {\n",
              "        text-align: right;\n",
              "    }\n",
              "</style>\n",
              "<table border=\"1\" class=\"dataframe\">\n",
              "  <thead>\n",
              "    <tr style=\"text-align: right;\">\n",
              "      <th></th>\n",
              "      <th>attr1</th>\n",
              "      <th>attr2</th>\n",
              "      <th>attr3</th>\n",
              "      <th>attr4</th>\n",
              "      <th>attr5</th>\n",
              "      <th>attr6</th>\n",
              "    </tr>\n",
              "  </thead>\n",
              "  <tbody>\n",
              "    <tr>\n",
              "      <th>272</th>\n",
              "      <td>1</td>\n",
              "      <td>3</td>\n",
              "      <td>1</td>\n",
              "      <td>1</td>\n",
              "      <td>4</td>\n",
              "      <td>2</td>\n",
              "    </tr>\n",
              "    <tr>\n",
              "      <th>600</th>\n",
              "      <td>3</td>\n",
              "      <td>3</td>\n",
              "      <td>2</td>\n",
              "      <td>3</td>\n",
              "      <td>4</td>\n",
              "      <td>2</td>\n",
              "    </tr>\n",
              "    <tr>\n",
              "      <th>479</th>\n",
              "      <td>3</td>\n",
              "      <td>1</td>\n",
              "      <td>1</td>\n",
              "      <td>3</td>\n",
              "      <td>4</td>\n",
              "      <td>1</td>\n",
              "    </tr>\n",
              "    <tr>\n",
              "      <th>436</th>\n",
              "      <td>2</td>\n",
              "      <td>3</td>\n",
              "      <td>2</td>\n",
              "      <td>1</td>\n",
              "      <td>2</td>\n",
              "      <td>2</td>\n",
              "    </tr>\n",
              "    <tr>\n",
              "      <th>383</th>\n",
              "      <td>2</td>\n",
              "      <td>2</td>\n",
              "      <td>1</td>\n",
              "      <td>3</td>\n",
              "      <td>4</td>\n",
              "      <td>1</td>\n",
              "    </tr>\n",
              "  </tbody>\n",
              "</table>\n",
              "</div>\n",
              "      <button class=\"colab-df-convert\" onclick=\"convertToInteractive('df-272ee090-5f36-45f9-b026-33051e824099')\"\n",
              "              title=\"Convert this dataframe to an interactive table.\"\n",
              "              style=\"display:none;\">\n",
              "        \n",
              "  <svg xmlns=\"http://www.w3.org/2000/svg\" height=\"24px\"viewBox=\"0 0 24 24\"\n",
              "       width=\"24px\">\n",
              "    <path d=\"M0 0h24v24H0V0z\" fill=\"none\"/>\n",
              "    <path d=\"M18.56 5.44l.94 2.06.94-2.06 2.06-.94-2.06-.94-.94-2.06-.94 2.06-2.06.94zm-11 1L8.5 8.5l.94-2.06 2.06-.94-2.06-.94L8.5 2.5l-.94 2.06-2.06.94zm10 10l.94 2.06.94-2.06 2.06-.94-2.06-.94-.94-2.06-.94 2.06-2.06.94z\"/><path d=\"M17.41 7.96l-1.37-1.37c-.4-.4-.92-.59-1.43-.59-.52 0-1.04.2-1.43.59L10.3 9.45l-7.72 7.72c-.78.78-.78 2.05 0 2.83L4 21.41c.39.39.9.59 1.41.59.51 0 1.02-.2 1.41-.59l7.78-7.78 2.81-2.81c.8-.78.8-2.07 0-2.86zM5.41 20L4 18.59l7.72-7.72 1.47 1.35L5.41 20z\"/>\n",
              "  </svg>\n",
              "      </button>\n",
              "      \n",
              "  <style>\n",
              "    .colab-df-container {\n",
              "      display:flex;\n",
              "      flex-wrap:wrap;\n",
              "      gap: 12px;\n",
              "    }\n",
              "\n",
              "    .colab-df-convert {\n",
              "      background-color: #E8F0FE;\n",
              "      border: none;\n",
              "      border-radius: 50%;\n",
              "      cursor: pointer;\n",
              "      display: none;\n",
              "      fill: #1967D2;\n",
              "      height: 32px;\n",
              "      padding: 0 0 0 0;\n",
              "      width: 32px;\n",
              "    }\n",
              "\n",
              "    .colab-df-convert:hover {\n",
              "      background-color: #E2EBFA;\n",
              "      box-shadow: 0px 1px 2px rgba(60, 64, 67, 0.3), 0px 1px 3px 1px rgba(60, 64, 67, 0.15);\n",
              "      fill: #174EA6;\n",
              "    }\n",
              "\n",
              "    [theme=dark] .colab-df-convert {\n",
              "      background-color: #3B4455;\n",
              "      fill: #D2E3FC;\n",
              "    }\n",
              "\n",
              "    [theme=dark] .colab-df-convert:hover {\n",
              "      background-color: #434B5C;\n",
              "      box-shadow: 0px 1px 3px 1px rgba(0, 0, 0, 0.15);\n",
              "      filter: drop-shadow(0px 1px 2px rgba(0, 0, 0, 0.3));\n",
              "      fill: #FFFFFF;\n",
              "    }\n",
              "  </style>\n",
              "\n",
              "      <script>\n",
              "        const buttonEl =\n",
              "          document.querySelector('#df-272ee090-5f36-45f9-b026-33051e824099 button.colab-df-convert');\n",
              "        buttonEl.style.display =\n",
              "          google.colab.kernel.accessAllowed ? 'block' : 'none';\n",
              "\n",
              "        async function convertToInteractive(key) {\n",
              "          const element = document.querySelector('#df-272ee090-5f36-45f9-b026-33051e824099');\n",
              "          const dataTable =\n",
              "            await google.colab.kernel.invokeFunction('convertToInteractive',\n",
              "                                                     [key], {});\n",
              "          if (!dataTable) return;\n",
              "\n",
              "          const docLinkHtml = 'Like what you see? Visit the ' +\n",
              "            '<a target=\"_blank\" href=https://colab.research.google.com/notebooks/data_table.ipynb>data table notebook</a>'\n",
              "            + ' to learn more about interactive tables.';\n",
              "          element.innerHTML = '';\n",
              "          dataTable['output_type'] = 'display_data';\n",
              "          await google.colab.output.renderOutput(dataTable, element);\n",
              "          const docLink = document.createElement('div');\n",
              "          docLink.innerHTML = docLinkHtml;\n",
              "          element.appendChild(docLink);\n",
              "        }\n",
              "      </script>\n",
              "    </div>\n",
              "  </div>\n",
              "  "
            ],
            "text/plain": [
              "     attr1  attr2  attr3  attr4  attr5  attr6\n",
              "272      1      3      1      1      4      2\n",
              "600      3      3      2      3      4      2\n",
              "479      3      1      1      3      4      1\n",
              "436      2      3      2      1      2      2\n",
              "383      2      2      1      3      4      1"
            ]
          },
          "execution_count": 78,
          "metadata": {},
          "output_type": "execute_result"
        }
      ],
      "source": [
        "X_monks_train.head()"
      ]
    },
    {
      "cell_type": "code",
      "execution_count": 79,
      "id": "homeless-parameter",
      "metadata": {
        "colab": {
          "base_uri": "https://localhost:8080/"
        },
        "id": "homeless-parameter",
        "outputId": "343b2fd6-b7ac-409e-cd8f-61fbbbc7412c",
        "trusted": true
      },
      "outputs": [
        {
          "name": "stdout",
          "output_type": "stream",
          "text": [
            "F1 score =  0.7079646017699115\n"
          ]
        }
      ],
      "source": [
        "from sklearn.metrics import f1_score  #We use f-measure because the classes are not balanced\n",
        "\n",
        "from sklearn.ensemble import RandomForestClassifier\n",
        "clf = RandomForestClassifier(random_state=0)\n",
        "clf.fit(X_monks_train, y_monks_train)\n",
        "print(\"F1 score = \", f1_score(clf.predict(X_monks_test), y_monks_test))"
      ]
    },
    {
      "cell_type": "code",
      "execution_count": 80,
      "id": "extra-wesley",
      "metadata": {
        "colab": {
          "base_uri": "https://localhost:8080/"
        },
        "id": "extra-wesley",
        "outputId": "548e2afd-f4bf-4135-8f51-058c31da175c",
        "trusted": true
      },
      "outputs": [
        {
          "name": "stdout",
          "output_type": "stream",
          "text": [
            "[0 0 1 0 0 1 0 0 1 1 0 0 0 0 0 0 0 0 1 0 0 0 1 0 1]\n"
          ]
        }
      ],
      "source": [
        "#from sklearn.neural_network import MLPClassifier\n",
        "from sklearn.naive_bayes import GaussianNB\n",
        "from sklearn.ensemble import RandomForestClassifier\n",
        "clf = RandomForestClassifier(random_state=0)\n",
        "#clf = MLPClassifier(random_state=1, max_iter=300)\n",
        "#clf = GaussianNB()\n",
        "\n",
        "clf.fit(X_monks_train, y_monks_train)\n",
        "y_pred     = clf.predict(X_monks_test)\n",
        "print(y_pred[:25])\n"
      ]
    },
    {
      "cell_type": "code",
      "execution_count": 81,
      "id": "hM-pZMwXKKhw",
      "metadata": {
        "colab": {
          "base_uri": "https://localhost:8080/"
        },
        "id": "hM-pZMwXKKhw",
        "outputId": "c6120f29-12bf-4c35-e561-3f16e440c071"
      },
      "outputs": [
        {
          "name": "stdout",
          "output_type": "stream",
          "text": [
            "[[0.99 0.01]\n",
            " [0.68 0.32]\n",
            " [0.27 0.73]\n",
            " [0.84 0.16]\n",
            " [1.   0.  ]]\n"
          ]
        }
      ],
      "source": [
        "y_pred_prob = clf.predict_proba(X_monks_test)\n",
        "print(y_pred_prob[:5,:])"
      ]
    },
    {
      "cell_type": "markdown",
      "id": "prescription-fourth",
      "metadata": {
        "id": "prescription-fourth"
      },
      "source": [
        "### Confusion Matrix"
      ]
    },
    {
      "cell_type": "code",
      "execution_count": 82,
      "id": "expired-while",
      "metadata": {
        "colab": {
          "base_uri": "https://localhost:8080/"
        },
        "id": "expired-while",
        "outputId": "9fe8670c-4574-4342-8b23-3836eea66d3b",
        "trusted": true
      },
      "outputs": [
        {
          "name": "stdout",
          "output_type": "stream",
          "text": [
            "[[108   8]\n",
            " [ 25  40]]\n"
          ]
        }
      ],
      "source": [
        "from sklearn.metrics import confusion_matrix\n",
        "\n",
        "cm=confusion_matrix(y_monks_test, y_pred)\n",
        "print(cm)"
      ]
    },
    {
      "cell_type": "markdown",
      "id": "greatest-detail",
      "metadata": {
        "id": "greatest-detail"
      },
      "source": [
        "### TP, FN, TN, FP"
      ]
    },
    {
      "cell_type": "code",
      "execution_count": 83,
      "id": "thousand-monthly",
      "metadata": {
        "colab": {
          "base_uri": "https://localhost:8080/"
        },
        "id": "thousand-monthly",
        "outputId": "a29edf99-51eb-48e5-8f2d-9b8b9be3ce95",
        "trusted": true
      },
      "outputs": [
        {
          "name": "stdout",
          "output_type": "stream",
          "text": [
            "TP=40\n",
            "FN=25\n",
            "TN=108\n",
            "FP=8\n"
          ]
        }
      ],
      "source": [
        "tn, fp, fn, tp = cm.ravel()\n",
        "print(\"TP={}\".format(tp))\n",
        "print(\"FN={}\".format(fn))\n",
        "print(\"TN={}\".format(tn))\n",
        "print(\"FP={}\".format(fp))"
      ]
    },
    {
      "cell_type": "markdown",
      "id": "dressed-positive",
      "metadata": {
        "id": "dressed-positive"
      },
      "source": [
        "### We can calculate Accuracy, TPR, ... based on the confusion matrix first"
      ]
    },
    {
      "cell_type": "code",
      "execution_count": 84,
      "id": "included-adventure",
      "metadata": {
        "colab": {
          "base_uri": "https://localhost:8080/"
        },
        "id": "included-adventure",
        "outputId": "8e60bb37-80df-4240-a22a-fa03643c9a3d",
        "trusted": true
      },
      "outputs": [
        {
          "name": "stdout",
          "output_type": "stream",
          "text": [
            "accuracy = 0.8176795580110497\n",
            "TPR/Recall=0.6153846153846154\n",
            "specificity=0.9310344827586207\n",
            "Precision=0.8333333333333334\n"
          ]
        }
      ],
      "source": [
        "print(\"accuracy = {}\".format((tp+tn)/(tn+fp+fn+tp)))\n",
        "print(\"TPR/Recall={}\".format(tp/(tp+fn)))\n",
        "print(\"specificity={}\".format(tn/(tn+fp)))\n",
        "print(\"Precision={}\".format(tp/(tp+fp)))"
      ]
    },
    {
      "cell_type": "markdown",
      "id": "athletic-purple",
      "metadata": {
        "id": "athletic-purple"
      },
      "source": [
        "### Use sklearn.metrics  "
      ]
    },
    {
      "cell_type": "markdown",
      "id": "satisfactory-dinner",
      "metadata": {
        "id": "satisfactory-dinner"
      },
      "source": [
        "### Accuracy"
      ]
    },
    {
      "cell_type": "code",
      "execution_count": 85,
      "id": "effective-equilibrium",
      "metadata": {
        "colab": {
          "base_uri": "https://localhost:8080/"
        },
        "id": "effective-equilibrium",
        "outputId": "bea35334-ea56-4871-e030-03e86db89436",
        "trusted": true
      },
      "outputs": [
        {
          "data": {
            "text/plain": [
              "0.8176795580110497"
            ]
          },
          "execution_count": 85,
          "metadata": {},
          "output_type": "execute_result"
        }
      ],
      "source": [
        "from sklearn.metrics import accuracy_score\n",
        "accuracy_score(y_monks_test, y_pred)"
      ]
    },
    {
      "cell_type": "markdown",
      "id": "warming-factory",
      "metadata": {
        "id": "warming-factory"
      },
      "source": [
        "### Recall"
      ]
    },
    {
      "cell_type": "code",
      "execution_count": 86,
      "id": "single-wrestling",
      "metadata": {
        "colab": {
          "base_uri": "https://localhost:8080/"
        },
        "id": "single-wrestling",
        "outputId": "2e0ffe0d-3dfc-44c8-dd46-496393607651",
        "trusted": true
      },
      "outputs": [
        {
          "name": "stdout",
          "output_type": "stream",
          "text": [
            "0.6153846153846154\n"
          ]
        }
      ],
      "source": [
        "from sklearn.metrics import recall_score\n",
        "r=recall_score(y_monks_test, y_pred)\n",
        "print(r)"
      ]
    },
    {
      "cell_type": "markdown",
      "id": "gentle-holder",
      "metadata": {
        "id": "gentle-holder"
      },
      "source": [
        "### Recall on the negative class == specificity"
      ]
    },
    {
      "cell_type": "code",
      "execution_count": 87,
      "id": "effective-tiger",
      "metadata": {
        "colab": {
          "base_uri": "https://localhost:8080/"
        },
        "id": "effective-tiger",
        "outputId": "68b36496-208b-4110-984b-538651a106f2",
        "trusted": true
      },
      "outputs": [
        {
          "data": {
            "text/plain": [
              "0.9310344827586207"
            ]
          },
          "execution_count": 87,
          "metadata": {},
          "output_type": "execute_result"
        }
      ],
      "source": [
        "from sklearn.metrics import recall_score\n",
        "recall_score(y_monks_test, y_pred, pos_label=0)"
      ]
    },
    {
      "cell_type": "markdown",
      "id": "excellent-sailing",
      "metadata": {
        "id": "excellent-sailing"
      },
      "source": [
        "### Precision"
      ]
    },
    {
      "cell_type": "code",
      "execution_count": 88,
      "id": "original-things",
      "metadata": {
        "colab": {
          "base_uri": "https://localhost:8080/"
        },
        "id": "original-things",
        "outputId": "05e1d88f-52e3-40a9-d82b-ffedc0c7cba9",
        "trusted": true
      },
      "outputs": [
        {
          "name": "stdout",
          "output_type": "stream",
          "text": [
            "0.8333333333333334\n"
          ]
        }
      ],
      "source": [
        "from sklearn.metrics import precision_score\n",
        "p=precision_score(y_monks_test, y_pred)\n",
        "print(p)"
      ]
    },
    {
      "cell_type": "markdown",
      "id": "metropolitan-string",
      "metadata": {
        "id": "metropolitan-string"
      },
      "source": [
        "### F1-Measure"
      ]
    },
    {
      "cell_type": "code",
      "execution_count": 89,
      "id": "imported-maryland",
      "metadata": {
        "colab": {
          "base_uri": "https://localhost:8080/"
        },
        "id": "imported-maryland",
        "outputId": "091d3a8d-8970-4531-8eb0-9ca370548e9c",
        "trusted": true
      },
      "outputs": [
        {
          "name": "stdout",
          "output_type": "stream",
          "text": [
            "f1-score=0.7079646017699115\n",
            "f1-score=0.7079646017699115\n"
          ]
        }
      ],
      "source": [
        "print(\"f1-score={}\".format(2*p*r/(p+r)))\n",
        "\n",
        "from sklearn.metrics import f1_score\n",
        "f1 = f1_score(y_monks_test, y_pred)\n",
        "print(\"f1-score={}\".format(f1))\n"
      ]
    },
    {
      "cell_type": "markdown",
      "id": "divided-minister",
      "metadata": {
        "id": "divided-minister"
      },
      "source": [
        "### ROC Curve and AUC"
      ]
    },
    {
      "cell_type": "code",
      "execution_count": 90,
      "id": "vital-format",
      "metadata": {
        "colab": {
          "base_uri": "https://localhost:8080/"
        },
        "id": "vital-format",
        "outputId": "da61e944-dde7-4a51-ec51-5f5c9c0268ee",
        "trusted": true
      },
      "outputs": [
        {
          "data": {
            "text/plain": [
              "0.9214190981432361"
            ]
          },
          "execution_count": 90,
          "metadata": {},
          "output_type": "execute_result"
        }
      ],
      "source": [
        "from sklearn.metrics import roc_curve\n",
        "from sklearn.metrics import auc\n",
        "fpr, tpr, thresholds = roc_curve(y_monks_test, y_pred_prob[:,1], pos_label=1)\n",
        "roc_auc = auc(fpr, tpr)\n",
        "#print(fpr)\n",
        "#print(tpr)\n",
        "#print(thresholds)\n",
        "roc_auc"
      ]
    },
    {
      "cell_type": "code",
      "execution_count": 91,
      "id": "instructional-archive",
      "metadata": {
        "colab": {
          "base_uri": "https://localhost:8080/",
          "height": 295
        },
        "id": "instructional-archive",
        "outputId": "c4b2f29f-b269-4b93-b3a0-95e268fa2ea9",
        "trusted": true
      },
      "outputs": [
        {
          "data": {
            "image/png": "[encoded data removed]",
            "text/plain": [
              "<Figure size 432x288 with 1 Axes>"
            ]
          },
          "metadata": {
            "needs_background": "light"
          },
          "output_type": "display_data"
        }
      ],
      "source": [
        "import matplotlib.pyplot as plt\n",
        "plt.figure()\n",
        "lw = 2\n",
        "plt.plot(fpr, tpr, color='darkorange',\n",
        "         lw=lw, label='ROC curve (area = %0.2f)' % roc_auc)\n",
        "plt.plot([0, 1], [0, 1], color='navy', lw=lw, linestyle='--')\n",
        "plt.xlim([0.0, 1.0])\n",
        "plt.ylim([0.0, 1.0])\n",
        "plt.xlabel('False Positive Rate')\n",
        "plt.ylabel('True Positive Rate')\n",
        "plt.title('Receiver operating characteristic (ROC) Curve')\n",
        "plt.legend(loc=\"lower right\")\n",
        "plt.show()"
      ]
    },
    {
      "cell_type": "markdown",
      "id": "eleven-chester",
      "metadata": {
        "id": "eleven-chester"
      },
      "source": [
        "### Log Loss"
      ]
    },
    {
      "cell_type": "code",
      "execution_count": 92,
      "id": "floating-anime",
      "metadata": {
        "colab": {
          "base_uri": "https://localhost:8080/"
        },
        "id": "floating-anime",
        "outputId": "0fbb42aa-dda8-4d3e-ef74-6966cadc36f7",
        "trusted": true
      },
      "outputs": [
        {
          "data": {
            "text/plain": [
              "0.36387331889975333"
            ]
          },
          "execution_count": 92,
          "metadata": {},
          "output_type": "execute_result"
        }
      ],
      "source": [
        "from sklearn.metrics import log_loss\n",
        "log_loss(y_monks_test, y_pred_prob)"
      ]
    },
    {
      "cell_type": "markdown",
      "id": "considered-editor",
      "metadata": {
        "id": "considered-editor"
      },
      "source": [
        "# Metrics for Regression\n",
        "\n",
        "For this, we use the Boston Housing data set, but check out the warning that sklearn throws up for this. Interesting!\n",
        "\n",
        " * the [docs](https://scikit-learn.org/stable/modules/generated/sklearn.datasets.load_boston.html)\n",
        " * someone [digging](https://medium.com/@docintangible/racist-data-destruction-113e3eff54a8)"
      ]
    },
    {
      "cell_type": "code",
      "execution_count": 93,
      "id": "confirmed-gospel",
      "metadata": {
        "colab": {
          "base_uri": "https://localhost:8080/"
        },
        "id": "confirmed-gospel",
        "outputId": "22b5d16e-7803-4ac7-c48e-c8e9b7b9e0fc",
        "trusted": true
      },
      "outputs": [
        {
          "name": "stderr",
          "output_type": "stream",
          "text": [
            "/usr/local/lib/python3.7/dist-packages/sklearn/utils/deprecation.py:87: FutureWarning: Function load_boston is deprecated; `load_boston` is deprecated in 1.0 and will be removed in 1.2.\n",
            "\n",
            "    The Boston housing prices dataset has an ethical problem. You can refer to\n",
            "    the documentation of this function for further details.\n",
            "\n",
            "    The scikit-learn maintainers therefore strongly discourage the use of this\n",
            "    dataset unless the purpose of the code is to study and educate about\n",
            "    ethical issues in data science and machine learning.\n",
            "\n",
            "    In this special case, you can fetch the dataset from the original\n",
            "    source::\n",
            "\n",
            "        import pandas as pd\n",
            "        import numpy as np\n",
            "\n",
            "\n",
            "        data_url = \"http://lib.stat.cmu.edu/datasets/boston\"\n",
            "        raw_df = pd.read_csv(data_url, sep=\"\\s+\", skiprows=22, header=None)\n",
            "        data = np.hstack([raw_df.values[::2, :], raw_df.values[1::2, :2]])\n",
            "        target = raw_df.values[1::2, 2]\n",
            "\n",
            "    Alternative datasets include the California housing dataset (i.e.\n",
            "    :func:`~sklearn.datasets.fetch_california_housing`) and the Ames housing\n",
            "    dataset. You can load the datasets as follows::\n",
            "\n",
            "        from sklearn.datasets import fetch_california_housing\n",
            "        housing = fetch_california_housing()\n",
            "\n",
            "    for the California housing dataset and::\n",
            "\n",
            "        from sklearn.datasets import fetch_openml\n",
            "        housing = fetch_openml(name=\"house_prices\", as_frame=True)\n",
            "\n",
            "    for the Ames housing dataset.\n",
            "    \n",
            "  warnings.warn(msg, category=FutureWarning)\n"
          ]
        }
      ],
      "source": [
        "from sklearn.datasets import load_boston\n",
        "from sklearn.model_selection import train_test_split\n",
        "X, y = load_boston(return_X_y=True);\n",
        "#split the data into training and testing subsets\n",
        "X_train, X_test, y_train, y_test = train_test_split(X, y, test_size=0.2, random_state=10)"
      ]
    },
    {
      "cell_type": "code",
      "execution_count": 94,
      "id": "ongoing-brooklyn",
      "metadata": {
        "colab": {
          "base_uri": "https://localhost:8080/"
        },
        "id": "ongoing-brooklyn",
        "outputId": "381e5d2a-cee7-4349-ad83-fe55effac273",
        "trusted": true
      },
      "outputs": [
        {
          "name": "stderr",
          "output_type": "stream",
          "text": [
            "/usr/local/lib/python3.7/dist-packages/sklearn/ensemble/_gb.py:290: FutureWarning: The loss 'ls' was deprecated in v1.0 and will be removed in version 1.2. Use 'squared_error' which is equivalent.\n",
            "  FutureWarning,\n"
          ]
        },
        {
          "name": "stdout",
          "output_type": "stream",
          "text": [
            "[26.35497356 29.90000099 25.79138469 27.75574031 19.95399255 14.46570703\n",
            " 43.86985834 16.16183396 21.70529532 46.74208658 20.41070998 25.0941999\n",
            " 24.94103047 31.04720686 31.95840841 44.80084816 24.601678   23.83255727\n",
            " 22.12704594 17.63041631 32.2828448  15.87798625 21.52988144 24.33697425\n",
            " 35.50388486 19.91504251 17.72091239 15.89044066 43.96752257 13.90768154\n",
            " 32.15116191 32.26845592 23.8358937  24.94084682 17.20563379 20.74141444\n",
            "  9.35665285 34.19459986 24.07688085 22.78786443 43.2432931  25.65518455\n",
            " 10.97432174 28.0325462  19.29589853 26.47726882 20.4949354  20.8207616\n",
            " 49.35838219 16.36503525 20.63220003 14.81369304 21.55346565 43.83011809\n",
            " 26.99595671 33.83750777 20.7831629  20.60845841 21.08214789 31.4286236\n",
            " 20.19647338 21.62464525 44.89854051 42.52608984 25.88825021 15.83900012\n",
            " 23.30884599  9.96649112 28.55862036 38.67729352 15.96373783 27.2067081\n",
            " 17.98382462 45.63284696 24.81889387 18.63380788 40.05475295 10.20728419\n",
            " 19.93174943 29.16084624 20.58667282 22.63650906 19.4832765  25.26277116\n",
            " 31.38099758 30.64589873 25.43325927 32.11955774 24.39115635  8.05619245\n",
            " 24.39115635 19.94432488 23.21186208 24.14943377 18.8123167  18.09764749\n",
            " 25.09767318 22.30434944 21.68168366 20.44001194 21.01812987 18.75623185]\n"
          ]
        }
      ],
      "source": [
        "#from sklearn.linear_model import LinearRegression\n",
        "from sklearn import ensemble\n",
        "\n",
        "params = {'n_estimators': 500,\n",
        "          'max_depth': 4,\n",
        "          'min_samples_split': 5,\n",
        "          'learning_rate': 0.01,\n",
        "          'loss': 'ls'}\n",
        "reg = ensemble.GradientBoostingRegressor(**params).fit(X_train, y_train)\n",
        "#reg = LinearRegression().fit(X_train, y_train)\n",
        "y_test_pred = reg.predict(X_test)\n",
        "print(y_test_pred)"
      ]
    },
    {
      "cell_type": "markdown",
      "id": "clinical-german",
      "metadata": {
        "id": "clinical-german"
      },
      "source": [
        "### MSE"
      ]
    },
    {
      "cell_type": "code",
      "execution_count": 95,
      "id": "regular-auditor",
      "metadata": {
        "colab": {
          "base_uri": "https://localhost:8080/"
        },
        "id": "regular-auditor",
        "outputId": "192b945d-e610-402b-ff32-f940e1da089c",
        "trusted": true
      },
      "outputs": [
        {
          "data": {
            "text/plain": [
              "14.651881063484899"
            ]
          },
          "execution_count": 95,
          "metadata": {},
          "output_type": "execute_result"
        }
      ],
      "source": [
        "from sklearn.metrics import mean_squared_error\n",
        "mean_squared_error(y_test, y_test_pred)"
      ]
    },
    {
      "cell_type": "markdown",
      "id": "liquid-torture",
      "metadata": {
        "id": "liquid-torture"
      },
      "source": [
        "### R-Squared"
      ]
    },
    {
      "cell_type": "code",
      "execution_count": 96,
      "id": "flush-coalition",
      "metadata": {
        "colab": {
          "base_uri": "https://localhost:8080/"
        },
        "id": "flush-coalition",
        "outputId": "00394673-4109-4456-ccd6-49958204ef8d",
        "trusted": true
      },
      "outputs": [
        {
          "name": "stdout",
          "output_type": "stream",
          "text": [
            "0.8598988623957179\n",
            "0.8598988623957179\n"
          ]
        }
      ],
      "source": [
        "from sklearn.metrics import r2_score\n",
        "print(r2_score(y_test, y_test_pred))\n",
        "print(reg.score(X_test, y_test))"
      ]
    },
    {
      "cell_type": "markdown",
      "id": "refined-leonard",
      "metadata": {
        "id": "refined-leonard"
      },
      "source": [
        "### MAE"
      ]
    },
    {
      "cell_type": "code",
      "execution_count": 97,
      "id": "right-dynamics",
      "metadata": {
        "colab": {
          "base_uri": "https://localhost:8080/"
        },
        "id": "right-dynamics",
        "outputId": "737275b1-ef6a-4c2a-df1b-6460721d7b6f",
        "trusted": true
      },
      "outputs": [
        {
          "data": {
            "text/plain": [
              "2.6666529971036064"
            ]
          },
          "execution_count": 97,
          "metadata": {},
          "output_type": "execute_result"
        }
      ],
      "source": [
        "from sklearn.metrics import mean_absolute_error\n",
        "\n",
        "mean_absolute_error(y_test, y_test_pred)"
      ]
    },
    {
      "cell_type": "markdown",
      "id": "passive-textbook",
      "metadata": {
        "id": "passive-textbook"
      },
      "source": [
        "#  Performance Metrics - Clustering\n",
        "\n",
        "Examples here:\n",
        " * silhouette\n",
        " * Rand (named after Rand, not \"random\"!) \n",
        " * mutual information\n",
        " * adjusted mutual information\n"
      ]
    },
    {
      "cell_type": "code",
      "execution_count": 98,
      "id": "surprising-assumption",
      "metadata": {
        "colab": {
          "base_uri": "https://localhost:8080/"
        },
        "id": "surprising-assumption",
        "outputId": "36c216aa-1985-4a77-9671-dc30a47af07e",
        "trusted": true
      },
      "outputs": [
        {
          "name": "stdout",
          "output_type": "stream",
          "text": [
            "[0 0 0 1 0 1 0 1 1 0]\n"
          ]
        }
      ],
      "source": [
        "from sklearn.cluster import KMeans\n",
        "\n",
        "kmeans = KMeans(n_clusters=2, random_state=0).fit(X_monks_train)\n",
        "kmeans_train_labels = kmeans.labels_\n",
        "kmeans_test_labels  = kmeans.predict(X_monks_test)\n",
        "print(kmeans_train_labels[:10])\n"
      ]
    },
    {
      "cell_type": "code",
      "execution_count": 99,
      "id": "HjStKGUGFoDq",
      "metadata": {
        "colab": {
          "base_uri": "https://localhost:8080/"
        },
        "id": "HjStKGUGFoDq",
        "outputId": "cda562b8-8a54-4f20-c6e8-d2b31ebb6ac8",
        "trusted": true
      },
      "outputs": [
        {
          "data": {
            "text/plain": [
              "(0.2335167660059811, 0.23844694525614454)"
            ]
          },
          "execution_count": 99,
          "metadata": {},
          "output_type": "execute_result"
        }
      ],
      "source": [
        "from sklearn.metrics import silhouette_score\n",
        "# do it for train and test sets\n",
        "silhouette_score(X_monks_train, kmeans_train_labels, metric='euclidean'),    silhouette_score(X_monks_test, kmeans_test_labels, metric='euclidean')"
      ]
    },
    {
      "cell_type": "code",
      "execution_count": 100,
      "id": "warming-playback",
      "metadata": {
        "colab": {
          "base_uri": "https://localhost:8080/"
        },
        "id": "warming-playback",
        "outputId": "dd59cf61-a54a-4caa-907d-2c2874880784",
        "trusted": true
      },
      "outputs": [
        {
          "data": {
            "text/plain": [
              "(0.5010342084327765, 0.5027624309392266)"
            ]
          },
          "execution_count": 100,
          "metadata": {},
          "output_type": "execute_result"
        }
      ],
      "source": [
        "from sklearn.metrics import rand_score\n",
        "# do it for train and test sets\n",
        "rand_score(y_monks_train, kmeans_train_labels),   rand_score(y_monks_test, kmeans_test_labels)"
      ]
    },
    {
      "cell_type": "code",
      "execution_count": 101,
      "id": "neutral-yemen",
      "metadata": {
        "colab": {
          "base_uri": "https://localhost:8080/"
        },
        "id": "neutral-yemen",
        "outputId": "bb6cde6f-d152-4db1-b292-c89e5f24681d",
        "trusted": true
      },
      "outputs": [
        {
          "data": {
            "text/plain": [
              "(0.0036744480935274604, 0.009083550889284059)"
            ]
          },
          "execution_count": 101,
          "metadata": {},
          "output_type": "execute_result"
        }
      ],
      "source": [
        "from sklearn.metrics import mutual_info_score\n",
        "# do it for train and test sets\n",
        "mutual_info_score(y_monks_train, kmeans_train_labels),    mutual_info_score(y_monks_test, kmeans_test_labels)"
      ]
    },
    {
      "cell_type": "code",
      "execution_count": 102,
      "id": "ambient-mailman",
      "metadata": {
        "colab": {
          "base_uri": "https://localhost:8080/"
        },
        "id": "ambient-mailman",
        "outputId": "a5438891-e556-4111-a044-aa1d901adf25",
        "trusted": true
      },
      "outputs": [
        {
          "data": {
            "text/plain": [
              "(0.003733450637005814, 0.003733450637005814)"
            ]
          },
          "execution_count": 102,
          "metadata": {},
          "output_type": "execute_result"
        }
      ],
      "source": [
        "from sklearn.metrics import adjusted_mutual_info_score\n",
        "# do it for train and test sets\n",
        "adjusted_mutual_info_score(y_monks_train, kmeans_train_labels),    adjusted_mutual_info_score(y_monks_train, kmeans_train_labels)"
      ]
    }
  ],
  "metadata": {
    "colab": {
      "collapsed_sections": [
        "athletic-purple"
      ],
      "provenance": []
    },
    "kernelspec": {
      "display_name": "Python 3.10.6 64-bit",
      "language": "python",
      "name": "python3"
    },
    "language_info": {
      "codemirror_mode": {
        "name": "ipython",
        "version": 3
      },
      "file_extension": ".py",
      "mimetype": "text/x-python",
      "name": "python",
      "nbconvert_exporter": "python",
      "pygments_lexer": "ipython3",
      "version": "3.10.6"
    },
    "vscode": {
      "interpreter": {
        "hash": "b0fa6594d8f4cbf19f97940f81e996739fb7646882a419484c72d19e05852a7e"
      }
    }
  },
  "nbformat": 4,
  "nbformat_minor": 5
}
